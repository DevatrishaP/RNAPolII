{
  "nbformat": 4,
  "nbformat_minor": 0,
  "metadata": {
    "colab": {
      "provenance": [],
      "collapsed_sections": [
        "ryI7SogBkmi3",
        "2qGUTy90gRG-",
        "xEDNWtgkkU9-"
      ],
      "authorship_tag": "ABX9TyO+rBMFamm67vaC+kMsej55",
      "include_colab_link": true
    },
    "kernelspec": {
      "name": "python3",
      "display_name": "Python 3"
    },
    "language_info": {
      "name": "python"
    }
  },
  "cells": [
    {
      "cell_type": "markdown",
      "metadata": {
        "id": "view-in-github",
        "colab_type": "text"
      },
      "source": [
        "<a href=\"https://colab.research.google.com/github/DevatrishaP/RNAPolII/blob/main/Sliding_window_frequency_of_residue_enrichment.ipynb\" target=\"_parent\"><img src=\"https://colab.research.google.com/assets/colab-badge.svg\" alt=\"Open In Colab\"/></a>"
      ]
    },
    {
      "cell_type": "code",
      "execution_count": 1,
      "metadata": {
        "colab": {
          "base_uri": "https://localhost:8080/"
        },
        "id": "3kKz0mTr5nKN",
        "outputId": "57e54ace-3ef9-415e-bb61-64323a7c729a"
      },
      "outputs": [
        {
          "output_type": "stream",
          "name": "stdout",
          "text": [
            "Looking in indexes: https://pypi.org/simple, https://us-python.pkg.dev/colab-wheels/public/simple/\n",
            "Collecting biopython\n",
            "  Downloading biopython-1.81-cp39-cp39-manylinux_2_17_x86_64.manylinux2014_x86_64.whl (3.1 MB)\n",
            "\u001b[2K     \u001b[90m━━━━━━━━━━━━━━━━━━━━━━━━━━━━━━━━━━━━━━━━\u001b[0m \u001b[32m3.1/3.1 MB\u001b[0m \u001b[31m64.6 MB/s\u001b[0m eta \u001b[36m0:00:00\u001b[0m\n",
            "\u001b[?25hRequirement already satisfied: numpy in /usr/local/lib/python3.9/dist-packages (from biopython) (1.22.4)\n",
            "Installing collected packages: biopython\n",
            "Successfully installed biopython-1.81\n"
          ]
        }
      ],
      "source": [
        "try:\n",
        "    import google.colab\n",
        "    # Running on Google Colab, so install Biopython first\n",
        "    !pip install biopython\n",
        "except ImportError:\n",
        "    pass"
      ]
    },
    {
      "cell_type": "markdown",
      "source": [
        "###Import libraries"
      ],
      "metadata": {
        "id": "ryI7SogBkmi3"
      }
    },
    {
      "cell_type": "code",
      "source": [
        "import os\n",
        "import sys\n",
        "import pandas\n",
        "\n",
        "from urllib.request import urlretrieve\n",
        "\n",
        "import Bio\n",
        "from Bio import SeqIO, SearchIO, Entrez\n",
        "from Bio.Seq import Seq\n",
        "from Bio.SeqUtils import GC\n",
        "from Bio.Blast import NCBIWWW\n",
        "from Bio.Data import CodonTable\n",
        "\n",
        "print(\"Python version:\", sys.version_info)\n",
        "print(\"Biopython version:\", Bio.__version__)"
      ],
      "metadata": {
        "colab": {
          "base_uri": "https://localhost:8080/"
        },
        "id": "h4UCo3TB50Tk",
        "outputId": "29bb65fa-0ac1-40a5-befd-399c61d849ac"
      },
      "execution_count": 2,
      "outputs": [
        {
          "output_type": "stream",
          "name": "stdout",
          "text": [
            "Python version: sys.version_info(major=3, minor=9, micro=16, releaselevel='final', serial=0)\n",
            "Biopython version: 1.81\n"
          ]
        }
      ]
    },
    {
      "cell_type": "markdown",
      "source": [
        "###To find the frequency of any residue in a moving window of 'n' length\n",
        "Input - \n",
        "\n",
        "*   Fasta file\n",
        "*   amino acid (letter)\n",
        "*   window length\n",
        "\n",
        "\n",
        "\n",
        "\n",
        "\n",
        "Output - \n",
        "\n",
        "\n",
        "*   Filename\n",
        "*   amino acid\n",
        "*   window length\n",
        "*   length of the sequence\n",
        "*   list of frequency of residue\n",
        "*   plot of the frequency\n",
        "\n",
        "\n",
        "\n",
        "\n",
        "\n"
      ],
      "metadata": {
        "id": "2qGUTy90gRG-"
      }
    },
    {
      "cell_type": "code",
      "source": [
        "import matplotlib.pyplot as plt\n",
        "\n",
        "from Bio import SeqIO\n",
        "\n",
        "def main():\n",
        "    in_file = input(\"Fasta file : \")\n",
        "    fasta_seqs = SeqIO.parse(open(in_file), \"fasta\")  ## reading fasta file\n",
        "    motif = str(input(\"Amino acid to search for: \")).upper()\n",
        "    J = int(input(\"Window length: \"))\n",
        "    for fasta in fasta_seqs:\n",
        "        name, seq = fasta.id, str(fasta.seq)\n",
        "    return motif,name,seq,J\n",
        "        \n",
        "motif,name,seq,J = main()\n",
        "\n",
        "def freq(seq, motif, J, n):\n",
        "    seq_part=seq[n:n+J]\n",
        "    freq = seq_part.count(motif)/J\n",
        "    return freq\n",
        "\n",
        "x=len(seq)\n",
        "freq_arr=[]\n",
        "for n in range(x-J):\n",
        "  freq_arr.append(freq(seq, motif, J, n))\n",
        "\n",
        "print(range(x-J), freq_arr)\n",
        "plt.style.use(\"ggplot\")\n",
        "plt.figure(figsize=(9,4))\n",
        "plt.plot(range(x-J), freq_arr)\n",
        "plt.xlabel(\"Starting position of window\")\n",
        "plt.ylabel(\"Frequency of \"+ motif)\n",
        "plt.legend(motif)\n",
        "plt.title(name)\n",
        "plt.show()\n",
        "\n",
        "#main()\n"
      ],
      "metadata": {
        "id": "33IytMcD56lk"
      },
      "execution_count": null,
      "outputs": []
    },
    {
      "cell_type": "markdown",
      "source": [
        "###For Serine, Tyrosine and Tryptophan frequency plot"
      ],
      "metadata": {
        "id": "xEDNWtgkkU9-"
      }
    },
    {
      "cell_type": "code",
      "source": [
        "#The skeleton of the code\n",
        "#Run only to check it\n",
        "import matplotlib.pyplot as plt\n",
        "\n",
        "from Bio import SeqIO\n",
        "\n",
        "def main():\n",
        "    in_file = input(\"Fasta file : \")\n",
        "    fasta_seqs = SeqIO.parse(open(in_file), \"fasta\")  ## reading fasta file\n",
        "    motif1 = \"S\"\n",
        "    motif2 = \"Y\"\n",
        "    motif3 = \"T\"\n",
        "    #motif1 = str(input(\"Motif/Sequence to search for: \")).upper()\n",
        "    #motif2 = str(input(\"Motif/Sequence to search for: \")).upper()\n",
        "    #motif3 = str(input(\"Motif/Sequence to search for: \")).upper()\n",
        "    J = int(input(\"Window length: \"))\n",
        "    for fasta in fasta_seqs:\n",
        "        name, seq = fasta.id, str(fasta.seq)\n",
        "    return motif1,motif2,motif3,name,seq,J\n",
        "        \n",
        "motif1,motif2,motif3,name,seq,J = main()\n",
        "\n",
        "def freq1(seq, motif1, J, n):\n",
        "    seq_part=seq[n:n+J]\n",
        "    freq1 = seq_part.count(motif1)/J\n",
        "    return freq1\n",
        "def freq2(seq, motif2, J, n):\n",
        "    seq_part=seq[n:n+J]\n",
        "    freq2 = seq_part.count(motif2)/J\n",
        "    return freq2\n",
        "def freq3(seq, motif3, J, n):\n",
        "    seq_part=seq[n:n+J]\n",
        "    freq3 = seq_part.count(motif3)/J\n",
        "    return freq3\n",
        "\n",
        "x=len(seq)\n",
        "freq_arr1=[]\n",
        "for n in range(x-J):\n",
        "  freq_arr1.append(freq1(seq, motif1, J, n))\n",
        "freq_arr2=[]\n",
        "for n in range(x-J):\n",
        "  freq_arr2.append(freq2(seq, motif2, J, n))\n",
        "freq_arr3=[]\n",
        "for n in range(x-J):\n",
        "  freq_arr3.append(freq3(seq, motif3, J, n))\n",
        "  \n",
        "\n",
        "print(range(x-J), freq_arr1, freq_arr2, freq_arr3)\n",
        "\n",
        "plt.style.use(\"ggplot\")\n",
        "plt.figure(figsize=(9,4))\n",
        "\n",
        "plt.plot(range(x-J), freq_arr1, label=\"S\")\n",
        "plt.plot(range(x-J), freq_arr2, label=\"Y\")\n",
        "plt.plot(range(x-J), freq_arr3, label=\"T\")\n",
        "\n",
        "plt.xlabel(\"Starting position of window\")\n",
        "plt.ylabel(\"Frequency of residue\")\n",
        "plt.title(name)\n",
        "\n",
        "plt.legend()\n",
        "plt.show()\n",
        "\n",
        "#main()\n"
      ],
      "metadata": {
        "id": "ss7sc40R7IAX"
      },
      "execution_count": null,
      "outputs": []
    }
  ]
}